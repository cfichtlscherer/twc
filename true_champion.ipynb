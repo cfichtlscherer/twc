{
 "cells": [
  {
   "cell_type": "markdown",
   "metadata": {},
   "source": [
    "## The True World Champion"
   ]
  },
  {
   "cell_type": "code",
   "execution_count": null,
   "metadata": {
    "collapsed": true
   },
   "outputs": [],
   "source": [
    "import math as math\n",
    "import matplotlib.pyplot as plt\n",
    "import numpy as np\n",
    "import random as random\n",
    "import time\n",
    "from matplotlib import rc\n",
    "import pandas as pd\n",
    "import matplotlib.patches as mpatches"
   ]
  },
  {
   "cell_type": "code",
   "execution_count": null,
   "metadata": {
    "collapsed": true
   },
   "outputs": [],
   "source": [
    "def random_matrix_no_draw(N):\n",
    "    \n",
    "    m = np.random.random((N,N))\n",
    "    m = m / (m + np.transpose(m)) + 0.5 * np.eye(N)\n",
    "    \n",
    "    return m"
   ]
  },
  {
   "cell_type": "code",
   "execution_count": null,
   "metadata": {
    "collapsed": true
   },
   "outputs": [],
   "source": [
    "def random_matrix_with_draw(N):\n",
    "    \n",
    "    m = np.random.random((N,N))\n",
    "    d = 0.5 * np.random.random((N,N))\n",
    "    m = m / (m + np.transpose(m) + d)\n",
    "    m[np.diag_indices_from(m)] = 1\n",
    "    \n",
    "    return m"
   ]
  },
  {
   "cell_type": "markdown",
   "metadata": {},
   "source": [
    "__Definitionen:__ <br>\n",
    "- maximale Zeilensumme  <br>\n",
    "- minimale Spaltensumme  <br>\n",
    "- Gewinner einer virtuellen Liga  <br>\n",
    "- Maximales Produkt  <br>\n",
    "- Meisten Direkten Siege  <br>"
   ]
  },
  {
   "cell_type": "code",
   "execution_count": null,
   "metadata": {
    "collapsed": true
   },
   "outputs": [],
   "source": [
    "def check_definitions(m):\n",
    "    \n",
    "    d1 = np.argmax(np.sum(m, axis=1))\n",
    "    \n",
    "    d2 = np.argmin(np.sum(m, axis=0))\n",
    "    \n",
    "    league_points = 3 * m + np.ones([N,N]) - m - np.transpose(m)\n",
    "    d3 = np.argmax(np.sum(league_points, axis=1))\n",
    "    \n",
    "    d4 = np.argmax(np.prod(m, axis=1))\n",
    "    \n",
    "    direct_wins = ((m - np.transpose(m)) > 0).astype(int)\n",
    "    d5 = np.argmax(np.sum(direct_wins, axis=1)) \n",
    "    \n",
    "    return d1, d2, d3, d4, d5"
   ]
  },
  {
   "cell_type": "markdown",
   "metadata": {},
   "source": [
    "Korrelation zwischen den einzelnen Definitionen, Beispielrechnung:"
   ]
  },
  {
   "cell_type": "code",
   "execution_count": null,
   "metadata": {
    "collapsed": true,
    "scrolled": true
   },
   "outputs": [],
   "source": [
    "N = 100\n",
    "alle_gleich = 0\n",
    "alle_verschieden = 0\n",
    "\n",
    "k1 = 0\n",
    "k2 = 0\n",
    "k3 = 0\n",
    "k4 = 0\n",
    "k5 = 0\n",
    "k6 = 0\n",
    "k7 = 0\n",
    "k8 = 0\n",
    "k9 = 0\n",
    "k10 = 0\n",
    "\n",
    "\n",
    "for i in range(10000):\n",
    "    m = random_matrix_with_draw(N)\n",
    "    a = check_definitions(m)\n",
    "    if a[0] == a[1] == a[2] == a[3] == a[4]:\n",
    "        alle_gleich += 1\n",
    "    if len(np.unique(a)) == len(a):\n",
    "        alle_verschieden += 1\n",
    "    if a[0] == a[1]:\n",
    "        k1 += 1\n",
    "    if a[0] == a[2]:\n",
    "         k2 += 1\n",
    "    if a[0] == a[3]:\n",
    "        k3 += 1\n",
    "    if a[0] == a[4]:\n",
    "        k4 += 1\n",
    "    if a[1] == a[2]:\n",
    "        k5 += 1\n",
    "    if a[1] == a[3]:\n",
    "        k6 += 1\n",
    "    if a[1] == a[4]:\n",
    "        k7 += 1\n",
    "    if a[2] == a[3]:\n",
    "        k8 += 1\n",
    "    if a[2] == a[4]:\n",
    "        k9 += 1\n",
    "    if a[3] == a[4]:\n",
    "        k10 += 1      \n",
    "\n",
    "print(alle_gleich, alle_verschieden)        \n",
    "print('\\n')\n",
    "print(k1, k2, k3, k4, k5, k6, k7, k8, k9, k10)"
   ]
  },
  {
   "cell_type": "markdown",
   "metadata": {},
   "source": [
    "__Definitionen der Tournaments:__"
   ]
  },
  {
   "cell_type": "code",
   "execution_count": null,
   "metadata": {
    "collapsed": true
   },
   "outputs": [],
   "source": [
    "def leage_one_round_tournament(m,N):\n",
    "    \n",
    "    r = np.tril(np.random.random((N,N)),-1)\n",
    "    first_wins_prob = np.tril(m,-1)\n",
    "    second_wins_prob = np.transpose(np.triu(m,1)) + np.tril(m,-1)\n",
    "    \n",
    "    first_wins = (r < first_wins_prob).astype(int)\n",
    "    second_wins = ((r > first_wins_prob) & (r < second_wins_prob)).astype(int)\n",
    "    draw = (r > second_wins_prob).astype(int)\n",
    "    \n",
    "    points = 3*(first_wins + np.transpose(second_wins)) + draw +np.transpose(draw)\n",
    "    \n",
    "    winner = np.argmax(np.sum(points, axis = 1))\n",
    "    \n",
    "    return(winner)    "
   ]
  },
  {
   "cell_type": "code",
   "execution_count": null,
   "metadata": {
    "collapsed": true
   },
   "outputs": [],
   "source": [
    "def leage_two_round_tournament(m,N):\n",
    "    \n",
    "    r_1 = np.tril(np.random.random((N,N)),-1)\n",
    "    r_2 = np.tril(np.random.random((N,N)),-1)\n",
    "    \n",
    "    first_wins_prob = np.tril(m,-1)\n",
    "    second_wins_prob = np.transpose(np.triu(m,1)) + np.tril(m,-1)\n",
    "    \n",
    "    first_wins_1 = (r_1 < first_wins_prob).astype(int)\n",
    "    second_wins_1 = ((r_1 > first_wins_prob) & (r_1 < second_wins_prob)).astype(int)\n",
    "    draw_1 = (r_1 > second_wins_prob).astype(int)\n",
    "    \n",
    "    first_wins_2 = (r_2 < first_wins_prob).astype(int)\n",
    "    second_wins_2 = ((r_2 > first_wins_prob) & (r_2 < second_wins_prob)).astype(int)\n",
    "    draw_2 = (r_2 > second_wins_prob).astype(int)\n",
    "    \n",
    "    points_1 = 3*(first_wins_1 + np.transpose(second_wins_1)) + draw_1 +np.transpose(draw_1)\n",
    "    points_2 = 3*(first_wins_2 + np.transpose(second_wins_2)) + draw_2 +np.transpose(draw_2)\n",
    "\n",
    "    points_tot = points_1 + points_2\n",
    "    \n",
    "    winner = np.argmax(np.sum(points_tot, axis = 1))\n",
    "    \n",
    "    return(winner)    "
   ]
  },
  {
   "cell_type": "code",
   "execution_count": null,
   "metadata": {
    "collapsed": true
   },
   "outputs": [],
   "source": [
    "def one_round_ko_one_game(winner_matrix, winner_list):\n",
    "    \n",
    "    m = winner_list.size\n",
    "\n",
    "    end = int(m/2)\n",
    "\n",
    "    winner_list_half = np.array([])\n",
    "\n",
    "    for i in range(end):\n",
    "        if winner_matrix[int(winner_list[i]), int(winner_list[i+end])] == 1:\n",
    "            winner_list_half = np.append(winner_list_half, winner_list[i])\n",
    "        else:\n",
    "            winner_list_half = np.append(winner_list_half, winner_list[i+end])\n",
    "    \n",
    "    return winner_list_half"
   ]
  },
  {
   "cell_type": "code",
   "execution_count": null,
   "metadata": {
    "collapsed": true
   },
   "outputs": [],
   "source": [
    "def ko_one_game_system(m):\n",
    "    \n",
    "    # with random matrix no draw\n",
    "    \n",
    "    r_1 = np.tril(np.random.random((N,N)),-1)\n",
    "    \n",
    "    win_1 = np.tril((r_1 < m).astype(int),-1)\n",
    "    win_2 = np.triu(np.ones((N,N)),1) - np.transpose(win_1)\n",
    "    \n",
    "    winner_matrix = win_1 + win_2\n",
    "\n",
    "    winner_list = np.arange(N)\n",
    "    \n",
    "    rounds = int(math.log2(N))\n",
    "    \n",
    "    for i in range(rounds):\n",
    "        winner_list = one_round_ko_one_game(winner_matrix, winner_list)\n",
    "        \n",
    "    winner = int(winner_list)\n",
    "    \n",
    "    return winner"
   ]
  },
  {
   "cell_type": "code",
   "execution_count": null,
   "metadata": {
    "collapsed": true
   },
   "outputs": [],
   "source": [
    "def ko_two_game_system(m):\n",
    "    \n",
    "    # with random matrix no draw\n",
    "    # we play 3 games, who wins 2 gets next round\n",
    "    # einziger unterschied zu one_round ist die winner_matrix\n",
    "    \n",
    "    r_1 = np.tril(np.random.random((N,N)),-1)\n",
    "    r_2 = np.tril(np.random.random((N,N)),-1)\n",
    "    r_3 = np.tril(np.random.random((N,N)),-1)\n",
    "    \n",
    "    win_1 = np.tril((r_1 < m).astype(int),-1)\n",
    "    win_2 = np.triu(np.ones((N,N)),1) - np.transpose(win_1)\n",
    "    \n",
    "    win_3 = np.tril((r_2 < m).astype(int),-1)\n",
    "    win_4 = np.triu(np.ones((N,N)),1) - np.transpose(win_1)\n",
    "    \n",
    "    win_5 = np.tril((r_3 < m).astype(int),-1)\n",
    "    win_6 = np.triu(np.ones((N,N)),1) - np.transpose(win_1)\n",
    "    \n",
    "    three_game_matrix = win_1 + win_2 + win_3 + win_4 + win_5 + win_6\n",
    "    \n",
    "    w_1 = np.tril((three_game_matrix > three_game_matrix.T).astype(int),-1)\n",
    "    w_2 = np.triu(np.ones((N,N)),1) - np.transpose(w_1)\n",
    "    \n",
    "    winner_matrix = w_1 + w_2\n",
    "    \n",
    "    winner_list = np.arange(N)\n",
    "    \n",
    "    rounds = int(math.log2(N))\n",
    "    \n",
    "    for i in range(rounds):\n",
    "        winner_list = one_round_ko_one_game(winner_matrix, winner_list)\n",
    "        \n",
    "    winner = int(winner_list)\n",
    "    \n",
    "    return winner"
   ]
  },
  {
   "cell_type": "markdown",
   "metadata": {},
   "source": [
    "Korrelation zwischen den einzelnen Definitionen und dem Ligasystem, Beispielrechnung:"
   ]
  },
  {
   "cell_type": "code",
   "execution_count": null,
   "metadata": {
    "collapsed": true
   },
   "outputs": [],
   "source": [
    "a = 0\n",
    "b = 0\n",
    "c = 0\n",
    "e = 0\n",
    "f = 0\n",
    "\n",
    "g = 0\n",
    "h = 0\n",
    "i = 0 \n",
    "j = 0\n",
    "k = 0\n",
    "for i in range(1000000):\n",
    "    m = random_matrix_with_draw()\n",
    "    d = check_definitions(m)\n",
    "    winner_1 = leage_one_round_tournament(m)\n",
    "    winner_2 = leage_two_round_tournament(m)\n",
    "    if d[0] == winner_1:\n",
    "        a+=1\n",
    "    if d[1] == winner_1:\n",
    "        b+=1\n",
    "    if d[2] == winner_1:\n",
    "        c+=1\n",
    "    if d[3] == winner_1:\n",
    "        e+=1\n",
    "    if d[4] == winner_1:\n",
    "        f+=1\n",
    "    if d[0] == winner_2:\n",
    "        g+=1\n",
    "    if d[1] == winner_2:\n",
    "        h+=1\n",
    "    if d[2] == winner_2:\n",
    "        i+=1\n",
    "    if d[3] == winner_2:\n",
    "        j+=1\n",
    "    if d[4] == winner_2:\n",
    "        k+=1   \n",
    "print(a,g,'##',b,h,'##',c,i,'##',e,j,'##',f,k)"
   ]
  },
  {
   "cell_type": "markdown",
   "metadata": {},
   "source": [
    "__The WM System__"
   ]
  },
  {
   "cell_type": "code",
   "execution_count": null,
   "metadata": {
    "collapsed": true
   },
   "outputs": [],
   "source": [
    "def leage_for_wm(m):\n",
    "    \n",
    "    r = np.tril(np.random.random((4,4)),-1)\n",
    "    \n",
    "    first_wins_prob = np.tril(m,-1)\n",
    "    second_wins_prob = np.transpose(np.triu(m,1)) + np.tril(m,-1)\n",
    "    \n",
    "    first_wins = (r < first_wins_prob).astype(int)\n",
    "    second_wins = ((r > first_wins_prob) & (r < second_wins_prob)).astype(int)\n",
    "    draw = (r > second_wins_prob).astype(int)\n",
    "    \n",
    "    points = 3*(first_wins + np.transpose(second_wins)) + draw +np.transpose(draw)\n",
    "    \n",
    "    winner = np.sum(points, axis = 1).argsort()[-2:][::-1]\n",
    "    \n",
    "    return(winner)    "
   ]
  },
  {
   "cell_type": "code",
   "execution_count": null,
   "metadata": {
    "collapsed": true
   },
   "outputs": [],
   "source": [
    "def one_round_wm(winner_matrix, winner_list):\n",
    "    \n",
    "    m = winner_list.size\n",
    "\n",
    "    end = int(m/2)\n",
    "\n",
    "    winner_list_half = np.array([])\n",
    "\n",
    "    for i in range(end):\n",
    "        if winner_matrix[int(winner_list[i]), int(winner_list[i+end])] == 1:\n",
    "            winner_list_half = np.append(winner_list_half, winner_list[i])\n",
    "        else:\n",
    "            winner_list_half = np.append(winner_list_half, winner_list[i+end])\n",
    "    \n",
    "    return winner_list_half"
   ]
  },
  {
   "cell_type": "code",
   "execution_count": null,
   "metadata": {
    "collapsed": true
   },
   "outputs": [],
   "source": [
    "def wm_random_groups(m,N):\n",
    "    \n",
    "    # with random matrix with draw\n",
    "    \n",
    "    m_win = m/(m + m.T) + 0.5 * np.eye(N)\n",
    "    \n",
    "    m1 = m[0:4,0:4]\n",
    "    m2 = m[4:8,4:8]\n",
    "    m3 = m[8:12,8:12]\n",
    "    m4 = m[12:16,12:16]\n",
    "    m5 = m[16:20,16:20]\n",
    "    m6 = m[20:24,20:24]\n",
    "    m7 = m[24:28,24:28]\n",
    "    m8 = m[28:32,28:32]\n",
    "    \n",
    "    z1 = leage_for_wm(m1)\n",
    "    z2 = leage_for_wm(m2) + 4\n",
    "    z3 = leage_for_wm(m3) + 8\n",
    "    z4 = leage_for_wm(m4) + 12\n",
    "    z5 = leage_for_wm(m5) + 16\n",
    "    z6 = leage_for_wm(m6) + 20\n",
    "    z7 = leage_for_wm(m7) + 24\n",
    "    z8 = leage_for_wm(m8) + 28\n",
    "    \n",
    "    z = np.hstack((z1,z2,z3,z4,z5,z6,z7,z8))\n",
    "    w1 = z[0::2]\n",
    "    w2 = z[1::2]\n",
    "    w3 = z[1::2][::-1]\n",
    "    \n",
    "    winner_list = np.hstack((w1,w3))\n",
    "    \n",
    "    r_1 = np.tril(np.random.random((32,32)),-1)\n",
    "    \n",
    "    win_1 = np.tril((r_1 < m_win).astype(int),-1)\n",
    "    win_2 = np.triu(np.ones((32,32)),1) - np.transpose(win_1)\n",
    "    \n",
    "    winner_matrix = win_1 + win_2\n",
    "    \n",
    "    for i in range(4):\n",
    "        winner_list = one_round_wm(winner_matrix, winner_list)\n",
    "    winner_list = int(winner_list)\n",
    "    return winner_list"
   ]
  }
 ],
 "metadata": {
  "kernelspec": {
   "display_name": "Python 3",
   "language": "python",
   "name": "python3"
  },
  "language_info": {
   "codemirror_mode": {
    "name": "ipython",
    "version": 3
   },
   "file_extension": ".py",
   "mimetype": "text/x-python",
   "name": "python",
   "nbconvert_exporter": "python",
   "pygments_lexer": "ipython3",
   "version": "3.6.2"
  }
 },
 "nbformat": 4,
 "nbformat_minor": 2
}
